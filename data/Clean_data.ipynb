{
 "cells": [
  {
   "cell_type": "code",
   "execution_count": 1,
   "metadata": {},
   "outputs": [],
   "source": [
    "import os\n",
    "import pandas as pd"
   ]
  },
  {
   "cell_type": "code",
   "execution_count": 2,
   "metadata": {},
   "outputs": [
    {
     "data": {
      "text/plain": [
       "[('..\\\\data\\\\OneDrive_1_11-4-2020',\n",
       "  ['.ipynb_checkpoints', 'UW SoD 10-16 Raw Data', 'Wildfire 2020'],\n",
       "  []),\n",
       " ('..\\\\data\\\\OneDrive_1_11-4-2020\\\\.ipynb_checkpoints',\n",
       "  [],\n",
       "  ['Clean data-checkpoint.ipynb', 'Count data points-checkpoint.ipynb']),\n",
       " ('..\\\\data\\\\OneDrive_1_11-4-2020\\\\UW SoD 10-16 Raw Data',\n",
       "  [],\n",
       "  ['Beta-01.csv',\n",
       "   'Beta-03.csv',\n",
       "   'Beta-06.csv',\n",
       "   'Beta-07.csv',\n",
       "   'Beta-11.csv',\n",
       "   'Beta-12.csv',\n",
       "   'Beta-14.csv',\n",
       "   'Beta-16.csv',\n",
       "   'Beta-17.csv',\n",
       "   'Beta-18.csv',\n",
       "   'Breakout-01.csv',\n",
       "   'Breakout-02.csv',\n",
       "   'Breakout-05.csv',\n",
       "   'Breakout-06.csv',\n",
       "   'Breakout-08.csv',\n",
       "   'Breakout-09.csv',\n",
       "   'Breakout-10.csv',\n",
       "   'Breakout-11.csv',\n",
       "   'debug.log',\n",
       "   'Dental_raw_data.html']),\n",
       " ('..\\\\data\\\\OneDrive_1_11-4-2020\\\\Wildfire 2020',\n",
       "  [],\n",
       "  ['Beta-01.txt',\n",
       "   'Beta-03.txt',\n",
       "   'Beta-06.txt',\n",
       "   'Beta-07.txt',\n",
       "   'Beta-11.txt',\n",
       "   'Beta-12.txt',\n",
       "   'Beta-14.txt',\n",
       "   'Beta-16.txt',\n",
       "   'Beta-17.txt',\n",
       "   'Beta-18.txt',\n",
       "   'Beta-19.txt',\n",
       "   'Breakout-01.txt',\n",
       "   'Breakout-02.txt',\n",
       "   'Breakout-06.txt',\n",
       "   'Breakout-08.txt',\n",
       "   'Breakout-09.txt',\n",
       "   'Breakout-10.txt',\n",
       "   'Breakout-11.txt'])]"
      ]
     },
     "execution_count": 2,
     "metadata": {},
     "output_type": "execute_result"
    }
   ],
   "source": [
    "list(os.walk(\"..\\data\\OneDrive_1_11-4-2020\"))"
   ]
  },
  {
   "cell_type": "code",
   "execution_count": 4,
   "metadata": {},
   "outputs": [],
   "source": [
    "UWdataFolder = r'..\\data\\OneDrive_1_11-4-2020\\UW SoD 10-16 Raw Data'\n",
    "UWdataFiles = ['Beta-01.csv',\n",
    "   'Beta-03.csv',\n",
    "   'Beta-06.csv',\n",
    "   'Beta-07.csv',\n",
    "   'Beta-11.csv',\n",
    "   'Beta-12.csv',\n",
    "   'Beta-14.csv',\n",
    "   'Beta-16.csv',\n",
    "   'Beta-17.csv',\n",
    "   'Beta-18.csv',\n",
    "   'Breakout-01.csv',\n",
    "   'Breakout-02.csv',\n",
    "   #'Breakout-05.csv', #<- something extra weird with this guy\n",
    "   'Breakout-06.csv',\n",
    "   'Breakout-08.csv',\n",
    "   'Breakout-09.csv',\n",
    "   'Breakout-10.csv',\n",
    "   'Breakout-11.csv'\n",
    "              ]"
   ]
  },
  {
   "cell_type": "code",
   "execution_count": 27,
   "metadata": {},
   "outputs": [],
   "source": [
    "def clean_line(line):\n",
    "    # remove redundant commas and quotation marks\n",
    "    line = line.replace(',\",\"', ',')\n",
    "    line = line.replace('\"',\"\")\n",
    "    line = line.replace(\",,\",\",\").strip()\n",
    "    # strip whitespace\n",
    "    line = [i.strip() for i in line.split(\",\")]\n",
    "    # join it back together with commas\n",
    "    return \",\".join(line)"
   ]
  },
  {
   "cell_type": "code",
   "execution_count": 30,
   "metadata": {},
   "outputs": [],
   "source": [
    "for uwcsv in UWdataFiles:\n",
    "    with open(os.path.join(UWdataFolder, uwcsv)) as f:\n",
    "        lines = f.readlines()\n",
    "    with open(os.path.join(r\"..\\data\\Clean UW\", uwcsv), mode='w') as f:\n",
    "        f.write(clean_line(lines[0][3:])) # ditch first 3 weird symbols: ï»¿\n",
    "        for line in lines[1:]:\n",
    "            f.write('\\n')\n",
    "            f.write(clean_line(line))"
   ]
  },
  {
   "cell_type": "code",
   "execution_count": 5,
   "metadata": {},
   "outputs": [
    {
     "name": "stdout",
     "output_type": "stream",
     "text": [
      "Beta-01.csv\n",
      "(2506, 22)\n",
      "Beta-03.csv\n",
      "(376, 22)\n",
      "Beta-06.csv\n",
      "(1395, 22)\n",
      "Beta-07.csv\n",
      "(1376, 22)\n",
      "Beta-11.csv\n",
      "(1449, 22)\n",
      "Beta-12.csv\n",
      "(1356, 22)\n",
      "Beta-14.csv\n",
      "(1449, 22)\n",
      "Beta-16.csv\n",
      "(1490, 22)\n",
      "Beta-17.csv\n",
      "(1361, 22)\n",
      "Beta-18.csv\n",
      "(1423, 22)\n",
      "Breakout-01.csv\n",
      "(1260, 18)\n",
      "Breakout-02.csv\n",
      "(1528, 18)\n",
      "Breakout-06.csv\n",
      "(1185, 18)\n",
      "Breakout-08.csv\n",
      "(1044, 18)\n",
      "Breakout-09.csv\n",
      "(1136, 18)\n",
      "Breakout-10.csv\n",
      "(1151, 18)\n",
      "Breakout-11.csv\n",
      "(796, 18)\n"
     ]
    }
   ],
   "source": [
    "for uwcsv in UWdataFiles:\n",
    "    print(uwcsv)\n",
    "    data = pd.read_csv(os.path.join('..\\data\\Clean UW', uwcsv))\n",
    "    print(data.shape)"
   ]
  },
  {
   "cell_type": "code",
   "execution_count": 6,
   "metadata": {},
   "outputs": [],
   "source": [
    "wildfiresFolder = r'..\\data\\OneDrive_1_11-4-2020\\Wildfire 2020'\n",
    "wildfiresDataFiles =[\n",
    "   'Beta-01.txt',\n",
    "   'Beta-03.txt',\n",
    "   'Beta-06.txt',\n",
    "   'Beta-07.txt',\n",
    "   'Beta-11.txt',\n",
    "   'Beta-12.txt',\n",
    "   'Beta-14.txt',\n",
    "   'Beta-16.txt',\n",
    "   'Beta-17.txt',\n",
    "   'Beta-18.txt',\n",
    "   'Beta-19.txt',\n",
    "   'Breakout-01.txt',\n",
    "   'Breakout-02.txt',\n",
    "   'Breakout-06.txt',\n",
    "   'Breakout-08.txt',\n",
    "   'Breakout-09.txt',\n",
    "   'Breakout-10.txt',\n",
    "   'Breakout-11.txt']"
   ]
  },
  {
   "cell_type": "code",
   "execution_count": 39,
   "metadata": {},
   "outputs": [],
   "source": [
    "for wildData in wildfiresDataFiles:\n",
    "    with open(os.path.join(wildfiresFolder, wildData)) as f:\n",
    "        lines = f.readlines()\n",
    "    name = os.path.splitext(wildData)[0]\n",
    "    with open(os.path.join(r\"..\\data\\Clean WF\", name + '.csv'), mode='w') as f:\n",
    "        i = 1\n",
    "        f.write(clean_line(lines[i][3:]))\n",
    "        for line in lines[i+1:]:\n",
    "            f.write('\\n')\n",
    "            f.write(clean_line(line))"
   ]
  },
  {
   "cell_type": "code",
   "execution_count": 7,
   "metadata": {},
   "outputs": [
    {
     "name": "stdout",
     "output_type": "stream",
     "text": [
      "Beta-01.txt\n",
      "(49220, 22)\n",
      "Beta-03.txt\n",
      "(292499, 22)\n",
      "Beta-06.txt\n",
      "(304176, 22)\n",
      "Beta-07.txt\n",
      "(285721, 22)\n",
      "Beta-11.txt\n",
      "(258064, 22)\n",
      "Beta-12.txt\n",
      "(292174, 22)\n",
      "Beta-14.txt\n",
      "(267669, 22)\n",
      "Beta-16.txt\n",
      "(267672, 22)\n",
      "Beta-17.txt\n",
      "(253972, 22)\n",
      "Beta-18.txt\n",
      "(269500, 22)\n",
      "Beta-19.txt\n",
      "(268316, 22)\n",
      "Breakout-01.txt\n",
      "(28945, 18)\n",
      "Breakout-02.txt\n",
      "(123755, 18)\n",
      "Breakout-06.txt\n",
      "(172682, 18)\n",
      "Breakout-08.txt\n",
      "(188531, 18)\n",
      "Breakout-09.txt\n",
      "(208669, 18)\n",
      "Breakout-10.txt\n",
      "(179400, 18)\n",
      "Breakout-11.txt\n",
      "(203957, 18)\n"
     ]
    }
   ],
   "source": [
    "for wildData in wildfiresDataFiles:\n",
    "    print(wildData)\n",
    "    data = pd.read_csv(os.path.join(r\"..\\data\\Clean WF\", wildData[:-3] + 'csv'))\n",
    "    print(data.shape)"
   ]
  },
  {
   "cell_type": "code",
   "execution_count": null,
   "metadata": {},
   "outputs": [],
   "source": []
  }
 ],
 "metadata": {
  "kernelspec": {
   "display_name": "Python 3",
   "language": "python",
   "name": "python3"
  },
  "language_info": {
   "codemirror_mode": {
    "name": "ipython",
    "version": 3
   },
   "file_extension": ".py",
   "mimetype": "text/x-python",
   "name": "python",
   "nbconvert_exporter": "python",
   "pygments_lexer": "ipython3",
   "version": "3.7.6"
  }
 },
 "nbformat": 4,
 "nbformat_minor": 4
}
